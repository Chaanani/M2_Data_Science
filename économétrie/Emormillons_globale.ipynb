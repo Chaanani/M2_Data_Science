{
 "cells": [
  {
   "cell_type": "code",
   "execution_count": 2,
   "metadata": {},
   "outputs": [],
   "source": [
    "import pandas as pd\n",
    "excel_data_globale = pd.read_excel('C:/Users/msi/Downloads/DATA EUROMILLION CHOIX DISCRET (1).xlsx')"
   ]
  },
  {
   "cell_type": "code",
   "execution_count": 3,
   "metadata": {},
   "outputs": [],
   "source": [
    "# les varaibles exogéne utilisée\n",
    "liste_columns=['JOUR tirage','E1','E2','pair','impair','pair_E1','sum_b','is_sumpaire','corr']"
   ]
  },
  {
   "cell_type": "code",
   "execution_count": 4,
   "metadata": {},
   "outputs": [],
   "source": [
    "# Importation des bibliothèques nécessaires\n",
    "import pandas as pd\n",
    "import statsmodels.api as sm\n",
    "\n",
    "\n",
    "# Fonction pour catégoriser la varaible endogéne\n",
    "def categorize_and_count(row):\n",
    "    count = 0\n",
    "    for number in row:\n",
    "        count = number + count\n",
    "    if count <=50:\n",
    "      return 0\n",
    "    if  50 < count <= 100:\n",
    "      return 1 \n",
    "    if  100 < count <= 150:\n",
    "          return 2 \n",
    "    if  150 < count <= 200:\n",
    "          return 3 \n",
    "    else: \n",
    "        return 4"
   ]
  },
  {
   "cell_type": "code",
   "execution_count": null,
   "metadata": {},
   "outputs": [],
   "source": [
    "\n",
    "      "
   ]
  },
  {
   "cell_type": "code",
   "execution_count": 5,
   "metadata": {},
   "outputs": [],
   "source": [
    "# Application de la fonction aux colonnes B1 à B5 pour créer la variable endogène\n",
    "excel_data_globale[\"Endogéne\"] = excel_data_globale[['B1', 'B2', 'B3', 'B4', 'B5']].apply( lambda row: categorize_and_count(row), axis=1)"
   ]
  },
  {
   "cell_type": "code",
   "execution_count": 7,
   "metadata": {},
   "outputs": [],
   "source": [
    "def categorize_étoile(row):\n",
    "    count = 0\n",
    "    for number in row:\n",
    "        count = number + count\n",
    "    if count <=10:\n",
    "      return 0 \n",
    "    else: \n",
    "        return 2\n",
    "    \n",
    "def categorize_jour(row):\n",
    "       if row['JOUR tirage'] ==\"MARDI   \":\n",
    "           return 0\n",
    "       else:\n",
    "          return 1"
   ]
  },
  {
   "cell_type": "code",
   "execution_count": 8,
   "metadata": {},
   "outputs": [],
   "source": [
    "excel_data_globale['Groupe_E1_E2']= excel_data_globale[['E1', 'E2']].apply( lambda row: categorize_étoile(row), axis=1)\n",
    "excel_data_globale[\"JOUR\"]= excel_data_globale.apply( lambda row: categorize_jour(row), axis=1)"
   ]
  },
  {
   "cell_type": "code",
   "execution_count": 9,
   "metadata": {},
   "outputs": [],
   "source": [
    "# Sélection de quelques variables exogènes pour le modèle\n",
    "Exogéne_varaibles = excel_data_globale[['JOUR','Groupe_E1_E2','pair','impair','pair_E1','sum_b','is_sumpaire','corr','MAX','MIN','produit']]\n",
    "endogenous_variable = excel_data_globale[\"Endogéne\"]"
   ]
  },
  {
   "cell_type": "code",
   "execution_count": 10,
   "metadata": {},
   "outputs": [],
   "source": [
    "# Ajout d'une colonne constante aux variables exogènes pour le terme d'interception\n",
    "X = sm.add_constant(Exogéne_varaibles)"
   ]
  },
  {
   "cell_type": "code",
   "execution_count": 11,
   "metadata": {},
   "outputs": [],
   "source": [
    "# Création et ajustement du modèle de régression de Poisson avec statsmodels\n",
    "poisson_model = sm.GLM(endogenous_variable, X, family=sm.families.Poisson())\n",
    "poisson_results = poisson_model.fit()\n",
    "\n",
    "# Affichage du résumé du modèle\n",
    "poisson_results_summary = poisson_results.summary()"
   ]
  },
  {
   "cell_type": "code",
   "execution_count": 12,
   "metadata": {},
   "outputs": [
    {
     "data": {
      "text/html": [
       "<table class=\"simpletable\">\n",
       "<caption>Generalized Linear Model Regression Results</caption>\n",
       "<tr>\n",
       "  <th>Dep. Variable:</th>       <td>Endogéne</td>     <th>  No. Observations:  </th>  <td>  1685</td> \n",
       "</tr>\n",
       "<tr>\n",
       "  <th>Model:</th>                  <td>GLM</td>       <th>  Df Residuals:      </th>  <td>  1674</td> \n",
       "</tr>\n",
       "<tr>\n",
       "  <th>Model Family:</th>         <td>Poisson</td>     <th>  Df Model:          </th>  <td>    10</td> \n",
       "</tr>\n",
       "<tr>\n",
       "  <th>Link Function:</th>          <td>Log</td>       <th>  Scale:             </th> <td>  1.0000</td>\n",
       "</tr>\n",
       "<tr>\n",
       "  <th>Method:</th>                <td>IRLS</td>       <th>  Log-Likelihood:    </th> <td> -2211.1</td>\n",
       "</tr>\n",
       "<tr>\n",
       "  <th>Date:</th>            <td>Thu, 18 Jan 2024</td> <th>  Deviance:          </th> <td>  80.848</td>\n",
       "</tr>\n",
       "<tr>\n",
       "  <th>Time:</th>                <td>20:19:53</td>     <th>  Pearson chi2:      </th>  <td>  78.6</td> \n",
       "</tr>\n",
       "<tr>\n",
       "  <th>No. Iterations:</th>          <td>4</td>        <th>  Pseudo R-squ. (CS):</th>  <td>0.1599</td> \n",
       "</tr>\n",
       "<tr>\n",
       "  <th>Covariance Type:</th>     <td>nonrobust</td>    <th>                     </th>     <td> </td>   \n",
       "</tr>\n",
       "</table>\n",
       "<table class=\"simpletable\">\n",
       "<tr>\n",
       "        <td></td>          <th>coef</th>     <th>std err</th>      <th>z</th>      <th>P>|z|</th>  <th>[0.025</th>    <th>0.975]</th>  \n",
       "</tr>\n",
       "<tr>\n",
       "  <th>const</th>        <td>   -0.0665</td> <td>    0.019</td> <td>   -3.535</td> <td> 0.000</td> <td>   -0.103</td> <td>   -0.030</td>\n",
       "</tr>\n",
       "<tr>\n",
       "  <th>JOUR</th>         <td>    0.0060</td> <td>    0.035</td> <td>    0.169</td> <td> 0.866</td> <td>   -0.063</td> <td>    0.075</td>\n",
       "</tr>\n",
       "<tr>\n",
       "  <th>Groupe_E1_E2</th> <td>    0.0010</td> <td>    0.018</td> <td>    0.056</td> <td> 0.956</td> <td>   -0.034</td> <td>    0.036</td>\n",
       "</tr>\n",
       "<tr>\n",
       "  <th>pair</th>         <td>   -0.1656</td> <td>    0.048</td> <td>   -3.429</td> <td> 0.001</td> <td>   -0.260</td> <td>   -0.071</td>\n",
       "</tr>\n",
       "<tr>\n",
       "  <th>impair</th>       <td>   -0.1667</td> <td>    0.047</td> <td>   -3.542</td> <td> 0.000</td> <td>   -0.259</td> <td>   -0.074</td>\n",
       "</tr>\n",
       "<tr>\n",
       "  <th>pair_E1</th>      <td>    0.0098</td> <td>    0.034</td> <td>    0.286</td> <td> 0.775</td> <td>   -0.058</td> <td>    0.077</td>\n",
       "</tr>\n",
       "<tr>\n",
       "  <th>sum_b</th>        <td>    0.0111</td> <td>    0.001</td> <td>    9.028</td> <td> 0.000</td> <td>    0.009</td> <td>    0.013</td>\n",
       "</tr>\n",
       "<tr>\n",
       "  <th>is_sumpaire</th>  <td>   -0.0134</td> <td>    0.034</td> <td>   -0.392</td> <td> 0.695</td> <td>   -0.081</td> <td>    0.054</td>\n",
       "</tr>\n",
       "<tr>\n",
       "  <th>corr</th>         <td>    0.0981</td> <td>    0.246</td> <td>    0.398</td> <td> 0.690</td> <td>   -0.385</td> <td>    0.581</td>\n",
       "</tr>\n",
       "<tr>\n",
       "  <th>MAX</th>          <td>    0.0015</td> <td>    0.004</td> <td>    0.370</td> <td> 0.711</td> <td>   -0.006</td> <td>    0.009</td>\n",
       "</tr>\n",
       "<tr>\n",
       "  <th>MIN</th>          <td>    0.0044</td> <td>    0.004</td> <td>    1.002</td> <td> 0.317</td> <td>   -0.004</td> <td>    0.013</td>\n",
       "</tr>\n",
       "<tr>\n",
       "  <th>produit</th>      <td>-4.317e-09</td> <td> 1.97e-09</td> <td>   -2.192</td> <td> 0.028</td> <td>-8.18e-09</td> <td>-4.58e-10</td>\n",
       "</tr>\n",
       "</table>"
      ],
      "text/latex": [
       "\\begin{center}\n",
       "\\begin{tabular}{lclc}\n",
       "\\toprule\n",
       "\\textbf{Dep. Variable:}   &     Endogéne     & \\textbf{  No. Observations:  } &     1685    \\\\\n",
       "\\textbf{Model:}           &       GLM        & \\textbf{  Df Residuals:      } &     1674    \\\\\n",
       "\\textbf{Model Family:}    &     Poisson      & \\textbf{  Df Model:          } &       10    \\\\\n",
       "\\textbf{Link Function:}   &       Log        & \\textbf{  Scale:             } &    1.0000   \\\\\n",
       "\\textbf{Method:}          &       IRLS       & \\textbf{  Log-Likelihood:    } &   -2211.1   \\\\\n",
       "\\textbf{Date:}            & Thu, 18 Jan 2024 & \\textbf{  Deviance:          } &    80.848   \\\\\n",
       "\\textbf{Time:}            &     20:19:53     & \\textbf{  Pearson chi2:      } &     78.6    \\\\\n",
       "\\textbf{No. Iterations:}  &        4         & \\textbf{  Pseudo R-squ. (CS):} &   0.1599    \\\\\n",
       "\\textbf{Covariance Type:} &    nonrobust     & \\textbf{                     } &             \\\\\n",
       "\\bottomrule\n",
       "\\end{tabular}\n",
       "\\begin{tabular}{lcccccc}\n",
       "                        & \\textbf{coef} & \\textbf{std err} & \\textbf{z} & \\textbf{P$> |$z$|$} & \\textbf{[0.025} & \\textbf{0.975]}  \\\\\n",
       "\\midrule\n",
       "\\textbf{const}          &      -0.0665  &        0.019     &    -3.535  &         0.000        &       -0.103    &       -0.030     \\\\\n",
       "\\textbf{JOUR}           &       0.0060  &        0.035     &     0.169  &         0.866        &       -0.063    &        0.075     \\\\\n",
       "\\textbf{Groupe\\_E1\\_E2} &       0.0010  &        0.018     &     0.056  &         0.956        &       -0.034    &        0.036     \\\\\n",
       "\\textbf{pair}           &      -0.1656  &        0.048     &    -3.429  &         0.001        &       -0.260    &       -0.071     \\\\\n",
       "\\textbf{impair}         &      -0.1667  &        0.047     &    -3.542  &         0.000        &       -0.259    &       -0.074     \\\\\n",
       "\\textbf{pair\\_E1}       &       0.0098  &        0.034     &     0.286  &         0.775        &       -0.058    &        0.077     \\\\\n",
       "\\textbf{sum\\_b}         &       0.0111  &        0.001     &     9.028  &         0.000        &        0.009    &        0.013     \\\\\n",
       "\\textbf{is\\_sumpaire}   &      -0.0134  &        0.034     &    -0.392  &         0.695        &       -0.081    &        0.054     \\\\\n",
       "\\textbf{corr}           &       0.0981  &        0.246     &     0.398  &         0.690        &       -0.385    &        0.581     \\\\\n",
       "\\textbf{MAX}            &       0.0015  &        0.004     &     0.370  &         0.711        &       -0.006    &        0.009     \\\\\n",
       "\\textbf{MIN}            &       0.0044  &        0.004     &     1.002  &         0.317        &       -0.004    &        0.013     \\\\\n",
       "\\textbf{produit}        &   -4.317e-09  &     1.97e-09     &    -2.192  &         0.028        &    -8.18e-09    &    -4.58e-10     \\\\\n",
       "\\bottomrule\n",
       "\\end{tabular}\n",
       "%\\caption{Generalized Linear Model Regression Results}\n",
       "\\end{center}"
      ],
      "text/plain": [
       "<class 'statsmodels.iolib.summary.Summary'>\n",
       "\"\"\"\n",
       "                 Generalized Linear Model Regression Results                  \n",
       "==============================================================================\n",
       "Dep. Variable:               Endogéne   No. Observations:                 1685\n",
       "Model:                            GLM   Df Residuals:                     1674\n",
       "Model Family:                 Poisson   Df Model:                           10\n",
       "Link Function:                    Log   Scale:                          1.0000\n",
       "Method:                          IRLS   Log-Likelihood:                -2211.1\n",
       "Date:                Thu, 18 Jan 2024   Deviance:                       80.848\n",
       "Time:                        20:19:53   Pearson chi2:                     78.6\n",
       "No. Iterations:                     4   Pseudo R-squ. (CS):             0.1599\n",
       "Covariance Type:            nonrobust                                         \n",
       "================================================================================\n",
       "                   coef    std err          z      P>|z|      [0.025      0.975]\n",
       "--------------------------------------------------------------------------------\n",
       "const           -0.0665      0.019     -3.535      0.000      -0.103      -0.030\n",
       "JOUR             0.0060      0.035      0.169      0.866      -0.063       0.075\n",
       "Groupe_E1_E2     0.0010      0.018      0.056      0.956      -0.034       0.036\n",
       "pair            -0.1656      0.048     -3.429      0.001      -0.260      -0.071\n",
       "impair          -0.1667      0.047     -3.542      0.000      -0.259      -0.074\n",
       "pair_E1          0.0098      0.034      0.286      0.775      -0.058       0.077\n",
       "sum_b            0.0111      0.001      9.028      0.000       0.009       0.013\n",
       "is_sumpaire     -0.0134      0.034     -0.392      0.695      -0.081       0.054\n",
       "corr             0.0981      0.246      0.398      0.690      -0.385       0.581\n",
       "MAX              0.0015      0.004      0.370      0.711      -0.006       0.009\n",
       "MIN              0.0044      0.004      1.002      0.317      -0.004       0.013\n",
       "produit      -4.317e-09   1.97e-09     -2.192      0.028   -8.18e-09   -4.58e-10\n",
       "================================================================================\n",
       "\"\"\""
      ]
     },
     "execution_count": 12,
     "metadata": {},
     "output_type": "execute_result"
    }
   ],
   "source": [
    "# Affichage du résumé du modèle\n",
    "poisson_results_summary "
   ]
  },
  {
   "cell_type": "markdown",
   "metadata": {},
   "source": [
    "Les résultats de notre modèle GLM Poisson montrent les effets de divers prédicteurs sur la variable dépendante 'Endogéne', avec un total de 1685 observations. Voici les points clés de l'analyse :\n",
    "\n",
    "Coefficients et Signification Statistique :\n",
    "'const' a un coefficient négatif (-0.0665) et est statistiquement significatif (p < 0.001), indiquant une influence notable.\n",
    "'JOUR' et 'Groupe_E1_E2' ne sont pas statistiquement significatifs (p > 0.05), suggérant une influence limitée sur 'Endogéne'.\n",
    "'pair' (-0.1656) et 'impair' (-0.1667) ont des effets négatifs significatifs.\n",
    "'sum_b' a un effet positif significatif (0.0111) sur 'Endogéne'.\n",
    "'pair_E1', 'is_sumpaire', 'corr', 'MAX' et 'MIN' n'ont pas d'effets significatifs.\n",
    "\n",
    "\n",
    "Modèle dans son Ensemble :\n",
    "Le modèle présente un bon ajustement avec un log-vraisemblance de -2211.1 et un pseudo R-carré de 0.1599.\n",
    "La déviance du modèle est de 80.848, indiquant une bonne adéquation entre le modèle et les données observées.\n",
    "\n",
    "\n",
    "Interprétation Générale :\n",
    "Les prédicteurs 'pair', 'impair', et 'sum_b' semblent être les plus influents pour prédire 'Endogéne'.\n",
    "\n",
    "Les autres variables, bien qu'incluses dans le modèle, n'ont pas montré d'influence statistiquement significative.\n",
    "\n",
    "Ces résultats fournissent des insights précieux sur les relations entre vos prédicteurs et la variable dépendante, aidant à comprendre quels facteurs sont les plus importants dans la prédiction de 'Endogéne'."
   ]
  },
  {
   "cell_type": "code",
   "execution_count": 13,
   "metadata": {},
   "outputs": [],
   "source": [
    "# Sélection de quelques variables exogènes pour le modèle\n",
    "Exogéne_varaibles = excel_data_globale[['pair','impair','sum_b']]"
   ]
  },
  {
   "cell_type": "code",
   "execution_count": 14,
   "metadata": {},
   "outputs": [],
   "source": [
    "# Ajout d'une colonne constante aux variables exogènes pour le terme d'interception\n",
    "X = sm.add_constant(Exogéne_varaibles)"
   ]
  },
  {
   "cell_type": "code",
   "execution_count": 15,
   "metadata": {},
   "outputs": [],
   "source": [
    "# Création et ajustement du modèle de régression de Poisson avec statsmodels\n",
    "poisson_model = sm.GLM(endogenous_variable, X, family=sm.families.Poisson())\n",
    "poisson_results = poisson_model.fit()\n",
    "\n",
    "# Affichage du résumé du modèle\n",
    "poisson_results_summary = poisson_results.summary()"
   ]
  },
  {
   "cell_type": "code",
   "execution_count": 16,
   "metadata": {},
   "outputs": [
    {
     "data": {
      "text/html": [
       "<table class=\"simpletable\">\n",
       "<caption>Generalized Linear Model Regression Results</caption>\n",
       "<tr>\n",
       "  <th>Dep. Variable:</th>       <td>Endogéne</td>     <th>  No. Observations:  </th>  <td>  1685</td> \n",
       "</tr>\n",
       "<tr>\n",
       "  <th>Model:</th>                  <td>GLM</td>       <th>  Df Residuals:      </th>  <td>  1682</td> \n",
       "</tr>\n",
       "<tr>\n",
       "  <th>Model Family:</th>         <td>Poisson</td>     <th>  Df Model:          </th>  <td>     2</td> \n",
       "</tr>\n",
       "<tr>\n",
       "  <th>Link Function:</th>          <td>Log</td>       <th>  Scale:             </th> <td>  1.0000</td>\n",
       "</tr>\n",
       "<tr>\n",
       "  <th>Method:</th>                <td>IRLS</td>       <th>  Log-Likelihood:    </th> <td> -2214.6</td>\n",
       "</tr>\n",
       "<tr>\n",
       "  <th>Date:</th>            <td>Thu, 18 Jan 2024</td> <th>  Deviance:          </th> <td>  87.763</td>\n",
       "</tr>\n",
       "<tr>\n",
       "  <th>Time:</th>                <td>20:20:02</td>     <th>  Pearson chi2:      </th>  <td>  84.5</td> \n",
       "</tr>\n",
       "<tr>\n",
       "  <th>No. Iterations:</th>          <td>4</td>        <th>  Pseudo R-squ. (CS):</th>  <td>0.1565</td> \n",
       "</tr>\n",
       "<tr>\n",
       "  <th>Covariance Type:</th>     <td>nonrobust</td>    <th>                     </th>     <td> </td>   \n",
       "</tr>\n",
       "</table>\n",
       "<table class=\"simpletable\">\n",
       "<tr>\n",
       "     <td></td>       <th>coef</th>     <th>std err</th>      <th>z</th>      <th>P>|z|</th>  <th>[0.025</th>    <th>0.975]</th>  \n",
       "</tr>\n",
       "<tr>\n",
       "  <th>const</th>  <td>   -0.0435</td> <td>    0.006</td> <td>   -7.220</td> <td> 0.000</td> <td>   -0.055</td> <td>   -0.032</td>\n",
       "</tr>\n",
       "<tr>\n",
       "  <th>pair</th>   <td>   -0.1076</td> <td>    0.017</td> <td>   -6.163</td> <td> 0.000</td> <td>   -0.142</td> <td>   -0.073</td>\n",
       "</tr>\n",
       "<tr>\n",
       "  <th>impair</th> <td>   -0.1099</td> <td>    0.017</td> <td>   -6.604</td> <td> 0.000</td> <td>   -0.142</td> <td>   -0.077</td>\n",
       "</tr>\n",
       "<tr>\n",
       "  <th>sum_b</th>  <td>    0.0098</td> <td>    0.001</td> <td>   16.818</td> <td> 0.000</td> <td>    0.009</td> <td>    0.011</td>\n",
       "</tr>\n",
       "</table>"
      ],
      "text/latex": [
       "\\begin{center}\n",
       "\\begin{tabular}{lclc}\n",
       "\\toprule\n",
       "\\textbf{Dep. Variable:}   &     Endogéne     & \\textbf{  No. Observations:  } &     1685    \\\\\n",
       "\\textbf{Model:}           &       GLM        & \\textbf{  Df Residuals:      } &     1682    \\\\\n",
       "\\textbf{Model Family:}    &     Poisson      & \\textbf{  Df Model:          } &        2    \\\\\n",
       "\\textbf{Link Function:}   &       Log        & \\textbf{  Scale:             } &    1.0000   \\\\\n",
       "\\textbf{Method:}          &       IRLS       & \\textbf{  Log-Likelihood:    } &   -2214.6   \\\\\n",
       "\\textbf{Date:}            & Thu, 18 Jan 2024 & \\textbf{  Deviance:          } &    87.763   \\\\\n",
       "\\textbf{Time:}            &     20:20:02     & \\textbf{  Pearson chi2:      } &     84.5    \\\\\n",
       "\\textbf{No. Iterations:}  &        4         & \\textbf{  Pseudo R-squ. (CS):} &   0.1565    \\\\\n",
       "\\textbf{Covariance Type:} &    nonrobust     & \\textbf{                     } &             \\\\\n",
       "\\bottomrule\n",
       "\\end{tabular}\n",
       "\\begin{tabular}{lcccccc}\n",
       "                & \\textbf{coef} & \\textbf{std err} & \\textbf{z} & \\textbf{P$> |$z$|$} & \\textbf{[0.025} & \\textbf{0.975]}  \\\\\n",
       "\\midrule\n",
       "\\textbf{const}  &      -0.0435  &        0.006     &    -7.220  &         0.000        &       -0.055    &       -0.032     \\\\\n",
       "\\textbf{pair}   &      -0.1076  &        0.017     &    -6.163  &         0.000        &       -0.142    &       -0.073     \\\\\n",
       "\\textbf{impair} &      -0.1099  &        0.017     &    -6.604  &         0.000        &       -0.142    &       -0.077     \\\\\n",
       "\\textbf{sum\\_b} &       0.0098  &        0.001     &    16.818  &         0.000        &        0.009    &        0.011     \\\\\n",
       "\\bottomrule\n",
       "\\end{tabular}\n",
       "%\\caption{Generalized Linear Model Regression Results}\n",
       "\\end{center}"
      ],
      "text/plain": [
       "<class 'statsmodels.iolib.summary.Summary'>\n",
       "\"\"\"\n",
       "                 Generalized Linear Model Regression Results                  \n",
       "==============================================================================\n",
       "Dep. Variable:               Endogéne   No. Observations:                 1685\n",
       "Model:                            GLM   Df Residuals:                     1682\n",
       "Model Family:                 Poisson   Df Model:                            2\n",
       "Link Function:                    Log   Scale:                          1.0000\n",
       "Method:                          IRLS   Log-Likelihood:                -2214.6\n",
       "Date:                Thu, 18 Jan 2024   Deviance:                       87.763\n",
       "Time:                        20:20:02   Pearson chi2:                     84.5\n",
       "No. Iterations:                     4   Pseudo R-squ. (CS):             0.1565\n",
       "Covariance Type:            nonrobust                                         \n",
       "==============================================================================\n",
       "                 coef    std err          z      P>|z|      [0.025      0.975]\n",
       "------------------------------------------------------------------------------\n",
       "const         -0.0435      0.006     -7.220      0.000      -0.055      -0.032\n",
       "pair          -0.1076      0.017     -6.163      0.000      -0.142      -0.073\n",
       "impair        -0.1099      0.017     -6.604      0.000      -0.142      -0.077\n",
       "sum_b          0.0098      0.001     16.818      0.000       0.009       0.011\n",
       "==============================================================================\n",
       "\"\"\""
      ]
     },
     "execution_count": 16,
     "metadata": {},
     "output_type": "execute_result"
    }
   ],
   "source": [
    "poisson_results_summary"
   ]
  },
  {
   "cell_type": "code",
   "execution_count": null,
   "metadata": {},
   "outputs": [],
   "source": []
  },
  {
   "cell_type": "markdown",
   "metadata": {},
   "source": [
    "Voici une analyse des résultats de votre modèle GLM Poisson :\n",
    "\n",
    "Performance Générale du Modèle :\n",
    "\n",
    "Avec 1685 observations, le modèle montre un log-vraisemblance de -2214.6.\n",
    "Le pseudo R-carré est de 0.1565, indiquant une adéquation raisonnable du modèle avec les données.\n",
    "La déviance est de 87.763, et le chi2 de Pearson est de 84.5, suggérant que le modèle s'adapte bien aux données observées.\n",
    "\n",
    "\n",
    "\n",
    "\n",
    "Analyse des Coefficients :\n",
    "\n",
    "const : Coefficient de -0.0435, significatif (p < 0.0001), indiquant un effet de base notable sur la variable dépendante 'Endogéne'.\n",
    "pair : Coefficient de -0.1076, également significatif (p < 0.0001). Cela suggère une influence négative sur 'Endogéne' - une augmentation de 'pair' est associée à une diminution de la variable dépendante.\n",
    "impair : Coefficient de -0.1099, avec une signification similaire (p < 0.0001), indiquant un effet négatif comparable à celui de 'pair'.\n",
    "sum_b : Coefficient positif de 0.0098, très significatif (p < 0.0001), impliquant une augmentation positive de 'Endogéne' avec l'augmentation de 'sum_b'.   \n",
    "\n",
    "\n",
    "\n",
    "Implications et Interprétations :\n",
    "\n",
    "Les variables 'pair' et 'impair' ont des impacts négatifs distincts et significatifs sur la variable 'Endogéne', ce qui indique que ces prédicteurs sont d'importants facteurs influençant la réponse du modèle.\n",
    "\n",
    "En revanche, 'sum_b' a un effet positif clair, ce qui suggère que des valeurs plus élevées de 'sum_b' sont associées à une augmentation de la variable dépendante.\n",
    "L'importance de ces prédicteurs est soulignée par leurs p-values très faibles, indiquant une forte signification statistique.\n",
    "\n",
    "\n",
    "En résumé, ce modèle GLM Poisson met en évidence l'importance et l'influence significative des variables 'pair', 'impair', et 'sum_b' sur la variable dépendante 'Endogéne'."
   ]
  },
  {
   "cell_type": "code",
   "execution_count": 17,
   "metadata": {},
   "outputs": [
    {
     "name": "stdout",
     "output_type": "stream",
     "text": [
      "         GLM Marginal Effects        \n",
      "=====================================\n",
      "Dep. Variable:               Endogéne\n",
      "Method:                          dydx\n",
      "At:                           overall\n",
      "==============================================================================\n",
      "                dy/dx    std err          z      P>|z|      [0.025      0.975]\n",
      "------------------------------------------------------------------------------\n",
      "pair          -0.2184      0.035     -6.248      0.000      -0.287      -0.150\n",
      "impair        -0.2230      0.033     -6.706      0.000      -0.288      -0.158\n",
      "sum_b          0.0200      0.001     16.163      0.000       0.018       0.022\n",
      "==============================================================================\n"
     ]
    }
   ],
   "source": [
    "# Calcul des effets marginaux\n",
    "marginal_effects = poisson_results.get_margeff()\n",
    "print(marginal_effects.summary())"
   ]
  },
  {
   "cell_type": "code",
   "execution_count": 18,
   "metadata": {},
   "outputs": [
    {
     "data": {
      "text/html": [
       "<div>\n",
       "<style scoped>\n",
       "    .dataframe tbody tr th:only-of-type {\n",
       "        vertical-align: middle;\n",
       "    }\n",
       "\n",
       "    .dataframe tbody tr th {\n",
       "        vertical-align: top;\n",
       "    }\n",
       "\n",
       "    .dataframe thead th {\n",
       "        text-align: right;\n",
       "    }\n",
       "</style>\n",
       "<table border=\"1\" class=\"dataframe\">\n",
       "  <thead>\n",
       "    <tr style=\"text-align: right;\">\n",
       "      <th></th>\n",
       "      <th>const</th>\n",
       "      <th>pair</th>\n",
       "      <th>impair</th>\n",
       "      <th>sum_b</th>\n",
       "    </tr>\n",
       "  </thead>\n",
       "  <tbody>\n",
       "    <tr>\n",
       "      <th>0</th>\n",
       "      <td>1</td>\n",
       "      <td>0</td>\n",
       "      <td>4</td>\n",
       "      <td>127.169725</td>\n",
       "    </tr>\n",
       "    <tr>\n",
       "      <th>1</th>\n",
       "      <td>1</td>\n",
       "      <td>1</td>\n",
       "      <td>3</td>\n",
       "      <td>127.169725</td>\n",
       "    </tr>\n",
       "    <tr>\n",
       "      <th>2</th>\n",
       "      <td>1</td>\n",
       "      <td>2</td>\n",
       "      <td>2</td>\n",
       "      <td>127.169725</td>\n",
       "    </tr>\n",
       "    <tr>\n",
       "      <th>3</th>\n",
       "      <td>1</td>\n",
       "      <td>3</td>\n",
       "      <td>1</td>\n",
       "      <td>127.169725</td>\n",
       "    </tr>\n",
       "    <tr>\n",
       "      <th>4</th>\n",
       "      <td>1</td>\n",
       "      <td>4</td>\n",
       "      <td>0</td>\n",
       "      <td>127.169725</td>\n",
       "    </tr>\n",
       "  </tbody>\n",
       "</table>\n",
       "</div>"
      ],
      "text/plain": [
       "   const  pair  impair       sum_b\n",
       "0      1     0       4  127.169725\n",
       "1      1     1       3  127.169725\n",
       "2      1     2       2  127.169725\n",
       "3      1     3       1  127.169725\n",
       "4      1     4       0  127.169725"
      ]
     },
     "execution_count": 18,
     "metadata": {},
     "output_type": "execute_result"
    }
   ],
   "source": [
    "import pandas as pd\n",
    "\n",
    "# Création de la nouvelle observation avec les valeurs fournies\n",
    "new_observation = {\n",
    "    'const': [ 1, 1, 1, 1, 1],\n",
    "    'pair': [0, 1, 2, 3, 4],\n",
    "    'impair': [4, 3, 2, 1, 0],\n",
    "    'sum_b': [127.169725, 127.169725, 127.169725, 127.169725, 127.169725]\n",
    "}\n",
    "\n",
    "# Conversion en DataFrame\n",
    "df_new = pd.DataFrame.from_dict(new_observation)\n",
    "df_new"
   ]
  },
  {
   "cell_type": "code",
   "execution_count": 19,
   "metadata": {},
   "outputs": [
    {
     "data": {
      "text/html": [
       "<div>\n",
       "<style scoped>\n",
       "    .dataframe tbody tr th:only-of-type {\n",
       "        vertical-align: middle;\n",
       "    }\n",
       "\n",
       "    .dataframe tbody tr th {\n",
       "        vertical-align: top;\n",
       "    }\n",
       "\n",
       "    .dataframe thead th {\n",
       "        text-align: right;\n",
       "    }\n",
       "</style>\n",
       "<table border=\"1\" class=\"dataframe\">\n",
       "  <thead>\n",
       "    <tr style=\"text-align: right;\">\n",
       "      <th></th>\n",
       "      <th>const</th>\n",
       "      <th>pair</th>\n",
       "      <th>impair</th>\n",
       "      <th>sum_b</th>\n",
       "      <th>estimation_lambda</th>\n",
       "    </tr>\n",
       "  </thead>\n",
       "  <tbody>\n",
       "    <tr>\n",
       "      <th>0</th>\n",
       "      <td>1</td>\n",
       "      <td>0</td>\n",
       "      <td>4</td>\n",
       "      <td>127.169725</td>\n",
       "      <td>2.159056</td>\n",
       "    </tr>\n",
       "    <tr>\n",
       "      <th>1</th>\n",
       "      <td>1</td>\n",
       "      <td>1</td>\n",
       "      <td>3</td>\n",
       "      <td>127.169725</td>\n",
       "      <td>2.163885</td>\n",
       "    </tr>\n",
       "    <tr>\n",
       "      <th>2</th>\n",
       "      <td>1</td>\n",
       "      <td>2</td>\n",
       "      <td>2</td>\n",
       "      <td>127.169725</td>\n",
       "      <td>2.168726</td>\n",
       "    </tr>\n",
       "    <tr>\n",
       "      <th>3</th>\n",
       "      <td>1</td>\n",
       "      <td>3</td>\n",
       "      <td>1</td>\n",
       "      <td>127.169725</td>\n",
       "      <td>2.173577</td>\n",
       "    </tr>\n",
       "    <tr>\n",
       "      <th>4</th>\n",
       "      <td>1</td>\n",
       "      <td>4</td>\n",
       "      <td>0</td>\n",
       "      <td>127.169725</td>\n",
       "      <td>2.178439</td>\n",
       "    </tr>\n",
       "  </tbody>\n",
       "</table>\n",
       "</div>"
      ],
      "text/plain": [
       "   const  pair  impair       sum_b  estimation_lambda\n",
       "0      1     0       4  127.169725           2.159056\n",
       "1      1     1       3  127.169725           2.163885\n",
       "2      1     2       2  127.169725           2.168726\n",
       "3      1     3       1  127.169725           2.173577\n",
       "4      1     4       0  127.169725           2.178439"
      ]
     },
     "execution_count": 19,
     "metadata": {},
     "output_type": "execute_result"
    }
   ],
   "source": [
    "# Si df_new n'a pas la colonne 'const', ajoutez-la\n",
    "if 'const' not in df_new.columns:\n",
    "    df_new = sm.add_constant(df_new)\n",
    "\n",
    "# Faire la prédiction en utilisant le modèle\n",
    "predicted_nombre_point= poisson_results.predict(df_new)\n",
    "prediction_lambda = list(predicted_nombre_point)\n",
    "\n",
    "# Création de la nouvelle observation avec les valeurs fournies\n",
    "new_observation = {\n",
    "    'const': [1, 1, 1, 1, 1],\n",
    "    'pair': [0, 1, 2, 3, 4],\n",
    "    'impair': [4, 3, 2, 1, 0],\n",
    "    'sum_b': [127.169725, 127.169725, 127.169725, 127.169725, 127.169725],\n",
    "    'estimation_lambda': prediction_lambda\n",
    "}\n",
    "\n",
    "# Conversion en DataFrame\n",
    "df_new = pd.DataFrame.from_dict(new_observation)\n",
    "df_new"
   ]
  },
  {
   "cell_type": "code",
   "execution_count": 25,
   "metadata": {},
   "outputs": [
    {
     "data": {
      "text/plain": [
       "array([2.53085005])"
      ]
     },
     "execution_count": 25,
     "metadata": {},
     "output_type": "execute_result"
    }
   ],
   "source": [
    "y=3 \n",
    "import numpy as np       \n",
    "observation = [1, 2, 3, 154 ]   \n",
    "poisson_results.predict(np.array(observation))"
   ]
  },
  {
   "cell_type": "code",
   "execution_count": null,
   "metadata": {},
   "outputs": [],
   "source": []
  },
  {
   "cell_type": "code",
   "execution_count": 26,
   "metadata": {},
   "outputs": [
    {
     "data": {
      "text/plain": [
       "array([2.63844287])"
      ]
     },
     "execution_count": 26,
     "metadata": {},
     "output_type": "execute_result"
    }
   ],
   "source": [
    "y=3 \n",
    "import numpy as np       \n",
    "observation = [1, 3, 2, 158 ]   \n",
    "poisson_results.predict(np.array(observation))"
   ]
  },
  {
   "cell_type": "code",
   "execution_count": null,
   "metadata": {},
   "outputs": [],
   "source": []
  }
 ],
 "metadata": {
  "kernelspec": {
   "display_name": "Python 3",
   "language": "python",
   "name": "python3"
  },
  "language_info": {
   "codemirror_mode": {
    "name": "ipython",
    "version": 3
   },
   "file_extension": ".py",
   "mimetype": "text/x-python",
   "name": "python",
   "nbconvert_exporter": "python",
   "pygments_lexer": "ipython3",
   "version": "3.11.4"
  }
 },
 "nbformat": 4,
 "nbformat_minor": 2
}
