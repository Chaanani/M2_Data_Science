{
 "cells": [
  {
   "cell_type": "code",
   "execution_count": 25,
   "metadata": {},
   "outputs": [],
   "source": [
    "import pandas as pd\n",
    "excel_data = pd.read_excel('C:/Users/msi/Downloads/DATA EUROMILLION CHOIX DISCRET (1).xlsx')\n"
   ]
  },
  {
   "cell_type": "markdown",
   "metadata": {},
   "source": [
    "### Les varaibles exogéne"
   ]
  },
  {
   "cell_type": "markdown",
   "metadata": {},
   "source": [
    "JOUR tirage: Cette colonne indique le jour de la semaine où le tirage de l'EuroMillions a eu lieu. Les valeurs typiques pourraient être \"Lundi\", \"Mercredi\", \"Vendredi\", etc., en fonction des jours de tirage pour l'EuroMillions.\n",
    "\n",
    "E1 et E2: Ces colonnes représentent les numéros des deux étoiles tirées dans l'EuroMillions. Les tirages de l'EuroMillions comprennent généralement la sélection de deux numéros supplémentaires, appelés étoiles, en plus des numéros réguliers.\n",
    "\n",
    "pair et impair: Ces colonnes semblent indiquer le nombre de numéros pairs et impairs tirés dans chaque jeu. Par exemple, si dans un tirage particulier, trois numéros pairs et deux numéros impairs sont tirés, les valeurs correspondantes dans ces colonnes seraient 3 pour \"pair\" et 2 pour \"impair\".\n",
    "\n",
    "pair_E1: Cette colonne pourrait indiquer si le premier numéro étoile (E1) est pair. Elle prendrait probablement une valeur de 1 si E1 est pair, et 0 si E1 est impair.\n",
    "\n",
    "sum_b: Cette colonne représente probablement la somme des numéros des boules tirées (B1, B2, B3, B4, B5). Cela donne un aperçu de la distribution des numéros dans un tirage particulier.\n",
    "\n",
    "is_sumpaire: Cette colonne semble indiquer si la somme des numéros de boules (sum_b) est un nombre pair. Si la somme est paire, la valeur serait 1; si elle est impaire, la valeur serait 0.\n",
    "\n",
    "corr: Cette colonne pourrait représenter une mesure de corrélation, bien que le contexte spécifique ne soit pas clair sans informations supplémentaires. Elle pourrait indiquer une sorte de corrélation statistique entre différents éléments du tirage, comme les numéros de boules, les numéros d'étoiles, ou d'autres facteurs."
   ]
  },
  {
   "cell_type": "markdown",
   "metadata": {},
   "source": [
    "### Les varaibles endogéne"
   ]
  },
  {
   "cell_type": "markdown",
   "metadata": {},
   "source": [
    "Pour déterminer la variable endogène \\( Y \\), les critères suivants sont utilisés en fonction de la somme des numéros des boules tirées :\n",
    "\n",
    "- **Si la somme est inférieure à 50** : \\( Y = 0 \\).\n",
    "- **Si la somme est entre 50 et 100 (inclus)** : \\( Y = 1 \\).\n",
    "- **Si la somme est entre 100 et 150 (inclus)** : \\( Y = 2 \\).\n",
    "- **Si la somme est entre 150 et 200 (inclus)** : \\( Y = 3 \\).\n",
    "- **Si la somme est entre 200 et 250 (inclus)** : \\( Y = 4 \\).\n",
    "\n",
    "Chaque intervalle de somme correspond à une modalité spécifique de \\( Y \\).\n",
    " "
   ]
  },
  {
   "cell_type": "code",
   "execution_count": 26,
   "metadata": {},
   "outputs": [],
   "source": [
    "# les varaibles exogéne utilisée\n",
    "liste_columns=['JOUR tirage','E1','E2','pair','impair','pair_E1','sum_b','is_sumpaire','corr']"
   ]
  },
  {
   "cell_type": "code",
   "execution_count": 27,
   "metadata": {},
   "outputs": [],
   "source": [
    "# Importation des bibliothèques nécessaires\n",
    "import pandas as pd\n",
    "import statsmodels.api as sm\n",
    "\n",
    "\n",
    "# Fonction pour catégoriser la varaible endogéne\n",
    "def categorize_and_count(row):\n",
    "    count = 0\n",
    "    for number in row:\n",
    "        count = number + count\n",
    "    if count <=50:\n",
    "      return 0\n",
    "    if  50 < count <= 100:\n",
    "      return 1 \n",
    "    if  100 < count <= 150:\n",
    "          return 2 \n",
    "    if  150 < count <= 200:\n",
    "          return 3 \n",
    "    else: \n",
    "        return 4\n"
   ]
  },
  {
   "cell_type": "markdown",
   "metadata": {},
   "source": [
    "### Dans cette section nous avons choisi le trige de mardi "
   ]
  },
  {
   "cell_type": "code",
   "execution_count": 28,
   "metadata": {},
   "outputs": [],
   "source": [
    "excel_data_mardi= excel_data[excel_data[\"JOUR tirage\"]==\"MARDI   \"]"
   ]
  },
  {
   "cell_type": "code",
   "execution_count": 29,
   "metadata": {},
   "outputs": [
    {
     "name": "stderr",
     "output_type": "stream",
     "text": [
      "C:\\Users\\msi\\AppData\\Local\\Temp\\ipykernel_43316\\3863096803.py:2: SettingWithCopyWarning: \n",
      "A value is trying to be set on a copy of a slice from a DataFrame.\n",
      "Try using .loc[row_indexer,col_indexer] = value instead\n",
      "\n",
      "See the caveats in the documentation: https://pandas.pydata.org/pandas-docs/stable/user_guide/indexing.html#returning-a-view-versus-a-copy\n",
      "  excel_data_mardi[\"Endogéne\"] = excel_data_mardi[['B1', 'B2', 'B3', 'B4', 'B5']].apply( lambda row: categorize_and_count(row), axis=1)\n"
     ]
    }
   ],
   "source": [
    "# Application de la fonction aux colonnes B1 à B5 pour créer la variable endogène\n",
    "excel_data_mardi[\"Endogéne\"] = excel_data_mardi[['B1', 'B2', 'B3', 'B4', 'B5']].apply( lambda row: categorize_and_count(row), axis=1)"
   ]
  },
  {
   "cell_type": "markdown",
   "metadata": {},
   "source": [
    "Nous avons réussi à coder la variable endogène en utilisant cinq modalités distinctes, allant de 0 à 4. Parallèlement, nous avons entamé le processus de codage des variables exogènes catégorielles sous une forme numérique. Cette étape implique la transformation des attributs catégoriels, qui sont souvent sous forme de labels ou de classes, en valeurs numériques. Cette conversion est cruciale pour l'analyse statistique et les modèles prédictifs, car elle permet d'intégrer ces variables dans des algorithmes qui requièrent des données numériques."
   ]
  },
  {
   "cell_type": "markdown",
   "metadata": {},
   "source": [
    "Parmi les variables exogènes sélectionnées pour notre analyse, nous avons deux catégories principales : les numéros d'étoiles gagnants et le jour de tirage. Pour convertir ces données en format numérique, nous avons élaboré la stratégie suivante :\n",
    "\n",
    "Conversion des numéros d'étoiles : Nous avons décidé que si la somme des numéros d'étoiles est inférieure à 0, cette somme sera codée comme 10. Dans le cas contraire, la somme sera codée comme 1. Cette approche simplifie la représentation des numéros d'étoiles en les regroupant en deux catégories distinctes basées sur leur somme totale.\n",
    "\n",
    "Conversion du jour de tirage : Pour cette variable, nous avons envisagé plusieurs options :\n",
    "\n",
    "Option 1 : Modèle global avec deux modalités pour les jours : Dans cette méthode, nous transformons les jours de tirage en deux catégories. Si le tirage a lieu un vendredi, nous le codons comme 0. Pour tous les autres jours, nous le codons comme 1. Cette approche nous permet de distinguer le vendredi des autres jours, en supposant que le vendredi pourrait avoir une caractéristique spécifique influençant les tirages.\n",
    "Option 2 : Analyse spécifique pour chaque jour : Une autre stratégie consiste à analyser les données en fonction de chaque jour de tirage séparément. Cela implique de créer des modèles distincts pour chaque jour, permettant une compréhension plus détaillée des tendances et des schémas qui peuvent varier selon le jour de la semaine.\n",
    "Ces méthodes de codage des variables catégorielles en formats numériques sont essentielles pour intégrer ces informations dans des modèles statistiques et des analyses prédictives. Elles nous permettent de simplifier les caractéristiques catégorielles tout en préservant les informations clés nécessaires pour nos analyses."
   ]
  },
  {
   "cell_type": "code",
   "execution_count": 30,
   "metadata": {},
   "outputs": [],
   "source": [
    "def categorize_étoile(row):\n",
    "    count = 0\n",
    "    for number in row:\n",
    "        count = number + count\n",
    "    if count <=10:\n",
    "      return 0 \n",
    "    else: \n",
    "        return 2"
   ]
  },
  {
   "cell_type": "code",
   "execution_count": 31,
   "metadata": {},
   "outputs": [
    {
     "name": "stderr",
     "output_type": "stream",
     "text": [
      "C:\\Users\\msi\\AppData\\Local\\Temp\\ipykernel_43316\\39110240.py:1: SettingWithCopyWarning: \n",
      "A value is trying to be set on a copy of a slice from a DataFrame.\n",
      "Try using .loc[row_indexer,col_indexer] = value instead\n",
      "\n",
      "See the caveats in the documentation: https://pandas.pydata.org/pandas-docs/stable/user_guide/indexing.html#returning-a-view-versus-a-copy\n",
      "  excel_data_mardi['Groupe_E1_E2']= excel_data_mardi[['E1', 'E2']].apply( lambda row: categorize_étoile(row), axis=1)\n"
     ]
    }
   ],
   "source": [
    "excel_data_mardi['Groupe_E1_E2']= excel_data_mardi[['E1', 'E2']].apply( lambda row: categorize_étoile(row), axis=1)"
   ]
  },
  {
   "cell_type": "code",
   "execution_count": null,
   "metadata": {},
   "outputs": [],
   "source": []
  },
  {
   "cell_type": "code",
   "execution_count": 32,
   "metadata": {},
   "outputs": [],
   "source": [
    "# Sélection de quelques variables exogènes pour le modèle\n",
    "Exogéne_varaibles = excel_data_mardi[['Groupe_E1_E2','pair','impair','pair_E1','sum_b','is_sumpaire','corr','MAX','MIN','produit']]\n",
    "endogenous_variable = excel_data_mardi[\"Endogéne\"]"
   ]
  },
  {
   "cell_type": "code",
   "execution_count": null,
   "metadata": {},
   "outputs": [],
   "source": []
  },
  {
   "cell_type": "code",
   "execution_count": 33,
   "metadata": {},
   "outputs": [],
   "source": [
    "# Ajout d'une colonne constante aux variables exogènes pour le terme d'interception\n",
    "X = sm.add_constant(Exogéne_varaibles)\n"
   ]
  },
  {
   "cell_type": "code",
   "execution_count": 34,
   "metadata": {},
   "outputs": [],
   "source": [
    "\n",
    "# Création et ajustement du modèle de régression de Poisson avec statsmodels\n",
    "poisson_model = sm.GLM(endogenous_variable, X, family=sm.families.Poisson())\n",
    "poisson_results = poisson_model.fit()\n",
    "\n",
    "# Affichage du résumé du modèle\n",
    "poisson_results_summary = poisson_results.summary()"
   ]
  },
  {
   "cell_type": "code",
   "execution_count": 35,
   "metadata": {},
   "outputs": [
    {
     "data": {
      "text/html": [
       "<table class=\"simpletable\">\n",
       "<caption>Generalized Linear Model Regression Results</caption>\n",
       "<tr>\n",
       "  <th>Dep. Variable:</th>       <td>Endogéne</td>     <th>  No. Observations:  </th>  <td>   654</td> \n",
       "</tr>\n",
       "<tr>\n",
       "  <th>Model:</th>                  <td>GLM</td>       <th>  Df Residuals:      </th>  <td>   644</td> \n",
       "</tr>\n",
       "<tr>\n",
       "  <th>Model Family:</th>         <td>Poisson</td>     <th>  Df Model:          </th>  <td>     9</td> \n",
       "</tr>\n",
       "<tr>\n",
       "  <th>Link Function:</th>          <td>Log</td>       <th>  Scale:             </th> <td>  1.0000</td>\n",
       "</tr>\n",
       "<tr>\n",
       "  <th>Method:</th>                <td>IRLS</td>       <th>  Log-Likelihood:    </th> <td> -856.67</td>\n",
       "</tr>\n",
       "<tr>\n",
       "  <th>Date:</th>            <td>Sun, 07 Jan 2024</td> <th>  Deviance:          </th> <td>  29.430</td>\n",
       "</tr>\n",
       "<tr>\n",
       "  <th>Time:</th>                <td>16:21:46</td>     <th>  Pearson chi2:      </th>  <td>  28.8</td> \n",
       "</tr>\n",
       "<tr>\n",
       "  <th>No. Iterations:</th>          <td>4</td>        <th>  Pseudo R-squ. (CS):</th>  <td>0.1627</td> \n",
       "</tr>\n",
       "<tr>\n",
       "  <th>Covariance Type:</th>     <td>nonrobust</td>    <th>                     </th>     <td> </td>   \n",
       "</tr>\n",
       "</table>\n",
       "<table class=\"simpletable\">\n",
       "<tr>\n",
       "        <td></td>          <th>coef</th>     <th>std err</th>      <th>z</th>      <th>P>|z|</th>  <th>[0.025</th>    <th>0.975]</th>  \n",
       "</tr>\n",
       "<tr>\n",
       "  <th>const</th>        <td>   -0.0666</td> <td>    0.031</td> <td>   -2.154</td> <td> 0.031</td> <td>   -0.127</td> <td>   -0.006</td>\n",
       "</tr>\n",
       "<tr>\n",
       "  <th>Groupe_E1_E2</th> <td>   -0.0071</td> <td>    0.029</td> <td>   -0.250</td> <td> 0.803</td> <td>   -0.063</td> <td>    0.049</td>\n",
       "</tr>\n",
       "<tr>\n",
       "  <th>pair</th>         <td>   -0.1677</td> <td>    0.080</td> <td>   -2.103</td> <td> 0.035</td> <td>   -0.324</td> <td>   -0.011</td>\n",
       "</tr>\n",
       "<tr>\n",
       "  <th>impair</th>       <td>   -0.1655</td> <td>    0.077</td> <td>   -2.150</td> <td> 0.032</td> <td>   -0.316</td> <td>   -0.015</td>\n",
       "</tr>\n",
       "<tr>\n",
       "  <th>pair_E1</th>      <td>    0.0049</td> <td>    0.055</td> <td>    0.089</td> <td> 0.929</td> <td>   -0.103</td> <td>    0.113</td>\n",
       "</tr>\n",
       "<tr>\n",
       "  <th>sum_b</th>        <td>    0.0109</td> <td>    0.002</td> <td>    5.391</td> <td> 0.000</td> <td>    0.007</td> <td>    0.015</td>\n",
       "</tr>\n",
       "<tr>\n",
       "  <th>is_sumpaire</th>  <td>   -0.0312</td> <td>    0.055</td> <td>   -0.563</td> <td> 0.573</td> <td>   -0.140</td> <td>    0.077</td>\n",
       "</tr>\n",
       "<tr>\n",
       "  <th>corr</th>         <td>    0.0933</td> <td>    0.409</td> <td>    0.228</td> <td> 0.820</td> <td>   -0.708</td> <td>    0.895</td>\n",
       "</tr>\n",
       "<tr>\n",
       "  <th>MAX</th>          <td>    0.0027</td> <td>    0.007</td> <td>    0.403</td> <td> 0.687</td> <td>   -0.010</td> <td>    0.016</td>\n",
       "</tr>\n",
       "<tr>\n",
       "  <th>MIN</th>          <td>    0.0045</td> <td>    0.007</td> <td>    0.668</td> <td> 0.504</td> <td>   -0.009</td> <td>    0.018</td>\n",
       "</tr>\n",
       "<tr>\n",
       "  <th>produit</th>      <td>-4.181e-09</td> <td> 3.27e-09</td> <td>   -1.280</td> <td> 0.201</td> <td>-1.06e-08</td> <td> 2.22e-09</td>\n",
       "</tr>\n",
       "</table>"
      ],
      "text/latex": [
       "\\begin{center}\n",
       "\\begin{tabular}{lclc}\n",
       "\\toprule\n",
       "\\textbf{Dep. Variable:}   &     Endogéne     & \\textbf{  No. Observations:  } &      654    \\\\\n",
       "\\textbf{Model:}           &       GLM        & \\textbf{  Df Residuals:      } &      644    \\\\\n",
       "\\textbf{Model Family:}    &     Poisson      & \\textbf{  Df Model:          } &        9    \\\\\n",
       "\\textbf{Link Function:}   &       Log        & \\textbf{  Scale:             } &    1.0000   \\\\\n",
       "\\textbf{Method:}          &       IRLS       & \\textbf{  Log-Likelihood:    } &   -856.67   \\\\\n",
       "\\textbf{Date:}            & Sun, 07 Jan 2024 & \\textbf{  Deviance:          } &    29.430   \\\\\n",
       "\\textbf{Time:}            &     16:21:46     & \\textbf{  Pearson chi2:      } &     28.8    \\\\\n",
       "\\textbf{No. Iterations:}  &        4         & \\textbf{  Pseudo R-squ. (CS):} &   0.1627    \\\\\n",
       "\\textbf{Covariance Type:} &    nonrobust     & \\textbf{                     } &             \\\\\n",
       "\\bottomrule\n",
       "\\end{tabular}\n",
       "\\begin{tabular}{lcccccc}\n",
       "                        & \\textbf{coef} & \\textbf{std err} & \\textbf{z} & \\textbf{P$> |$z$|$} & \\textbf{[0.025} & \\textbf{0.975]}  \\\\\n",
       "\\midrule\n",
       "\\textbf{const}          &      -0.0666  &        0.031     &    -2.154  &         0.031        &       -0.127    &       -0.006     \\\\\n",
       "\\textbf{Groupe\\_E1\\_E2} &      -0.0071  &        0.029     &    -0.250  &         0.803        &       -0.063    &        0.049     \\\\\n",
       "\\textbf{pair}           &      -0.1677  &        0.080     &    -2.103  &         0.035        &       -0.324    &       -0.011     \\\\\n",
       "\\textbf{impair}         &      -0.1655  &        0.077     &    -2.150  &         0.032        &       -0.316    &       -0.015     \\\\\n",
       "\\textbf{pair\\_E1}       &       0.0049  &        0.055     &     0.089  &         0.929        &       -0.103    &        0.113     \\\\\n",
       "\\textbf{sum\\_b}         &       0.0109  &        0.002     &     5.391  &         0.000        &        0.007    &        0.015     \\\\\n",
       "\\textbf{is\\_sumpaire}   &      -0.0312  &        0.055     &    -0.563  &         0.573        &       -0.140    &        0.077     \\\\\n",
       "\\textbf{corr}           &       0.0933  &        0.409     &     0.228  &         0.820        &       -0.708    &        0.895     \\\\\n",
       "\\textbf{MAX}            &       0.0027  &        0.007     &     0.403  &         0.687        &       -0.010    &        0.016     \\\\\n",
       "\\textbf{MIN}            &       0.0045  &        0.007     &     0.668  &         0.504        &       -0.009    &        0.018     \\\\\n",
       "\\textbf{produit}        &   -4.181e-09  &     3.27e-09     &    -1.280  &         0.201        &    -1.06e-08    &     2.22e-09     \\\\\n",
       "\\bottomrule\n",
       "\\end{tabular}\n",
       "%\\caption{Generalized Linear Model Regression Results}\n",
       "\\end{center}"
      ],
      "text/plain": [
       "<class 'statsmodels.iolib.summary.Summary'>\n",
       "\"\"\"\n",
       "                 Generalized Linear Model Regression Results                  \n",
       "==============================================================================\n",
       "Dep. Variable:               Endogéne   No. Observations:                  654\n",
       "Model:                            GLM   Df Residuals:                      644\n",
       "Model Family:                 Poisson   Df Model:                            9\n",
       "Link Function:                    Log   Scale:                          1.0000\n",
       "Method:                          IRLS   Log-Likelihood:                -856.67\n",
       "Date:                Sun, 07 Jan 2024   Deviance:                       29.430\n",
       "Time:                        16:21:46   Pearson chi2:                     28.8\n",
       "No. Iterations:                     4   Pseudo R-squ. (CS):             0.1627\n",
       "Covariance Type:            nonrobust                                         \n",
       "================================================================================\n",
       "                   coef    std err          z      P>|z|      [0.025      0.975]\n",
       "--------------------------------------------------------------------------------\n",
       "const           -0.0666      0.031     -2.154      0.031      -0.127      -0.006\n",
       "Groupe_E1_E2    -0.0071      0.029     -0.250      0.803      -0.063       0.049\n",
       "pair            -0.1677      0.080     -2.103      0.035      -0.324      -0.011\n",
       "impair          -0.1655      0.077     -2.150      0.032      -0.316      -0.015\n",
       "pair_E1          0.0049      0.055      0.089      0.929      -0.103       0.113\n",
       "sum_b            0.0109      0.002      5.391      0.000       0.007       0.015\n",
       "is_sumpaire     -0.0312      0.055     -0.563      0.573      -0.140       0.077\n",
       "corr             0.0933      0.409      0.228      0.820      -0.708       0.895\n",
       "MAX              0.0027      0.007      0.403      0.687      -0.010       0.016\n",
       "MIN              0.0045      0.007      0.668      0.504      -0.009       0.018\n",
       "produit      -4.181e-09   3.27e-09     -1.280      0.201   -1.06e-08    2.22e-09\n",
       "================================================================================\n",
       "\"\"\""
      ]
     },
     "execution_count": 35,
     "metadata": {},
     "output_type": "execute_result"
    }
   ],
   "source": [
    "# Affichage du résumé du modèle\n",
    "poisson_results_summary "
   ]
  },
  {
   "cell_type": "markdown",
   "metadata": {},
   "source": [
    "Résultats du Modèle:\n",
    "\n",
    "Variable Dépendante (Dep. Variable) : y\n",
    "\n",
    "Nombre d'Observations (No. Observations) : 654\n",
    "\n",
    "Degrés de liberté résiduels (Df Residuals) : 644\n",
    "\n",
    "Famille du Modèle (Model Family) : Poisson\n",
    "\n",
    "Degrés de liberté du modèle (Df Model) : 9\n",
    "\n",
    "Fonction de lien (Link Function) : Log\n",
    "\n",
    "Méthode (Method) : IRLS\n",
    "\n",
    "Log-vraisemblance (Log-Likelihood) : -856.67\n",
    "\n",
    "Déviance (Deviance) : 29.430\n",
    "\n",
    "Chi2 de Pearson (Pearson chi2) : 28.8\n",
    "\n",
    "Nombre d'itérations (No. Iterations) : 4\n",
    "\n",
    "\n",
    "Pseudo R-carré (Pseudo R-squ.) : 0.1627"
   ]
  },
  {
   "cell_type": "markdown",
   "metadata": {},
   "source": [
    "\n",
    "\n",
    "Analyse des Résultats\n",
    "\n",
    "Constante (const):\n",
    "Coefficient : -0.0666\n",
    "P-value : 0.031\n",
    "La constante est statistiquement significative (p < 0.05). Cela indique une influence notable sur la variable dépendante lorsque toutes les autres variables sont à zéro.\n",
    "\n",
    "Groupe_E1_E2:\n",
    "Coefficient : -0.0071\n",
    "P-value : 0.803\n",
    "Non significatif statistiquement. Suggère peu ou pas d'impact sur la variable dépendante.\n",
    "\n",
    "pair:\n",
    "Coefficient : -0.1677\n",
    "P-value : 0.035\n",
    "Statistiquement significatif. Indique une influence négative sur la variable dépendante.\n",
    "\n",
    "impair:\n",
    "Coefficient : -0.1655\n",
    "P-value : 0.032\n",
    "Statistiquement significatif, similaire à pair, indiquant également une influence négative.\n",
    "\n",
    "pair_E1:\n",
    "Coefficient : 0.0049\n",
    "P-value : 0.929\n",
    "Non significatif statistiquement.\n",
    "\n",
    "sum_b:\n",
    "Coefficient : 0.0109\n",
    "P-value : <0.001\n",
    "Très significatif statistiquement. Forte influence positive sur la variable dépendante.\n",
    "\n",
    "is_sumpaire:\n",
    "Coefficient : -0.0312\n",
    "P-value : 0.573\n",
    "Non significatif statistiquement.\n",
    "\n",
    "corr:\n",
    "Coefficient : 0.0933\n",
    "P-value : 0.820\n",
    "Non significatif statistiquement.\n",
    "\n",
    "MAX:\n",
    "Coefficient : 0.0027\n",
    "P-value : 0.687\n",
    "Non significatif statistiquement.\n",
    "\n",
    "MIN:\n",
    "Coefficient : 0.0045\n",
    "P-value : 0.504\n",
    "Non significatif statistiquement.\n",
    "\n",
    "\n",
    "produit:\n",
    "Coefficient : -4.181e-09\n",
    "P-value : 0.201\n",
    "Non significatif statistiquement.\n",
    "\n",
    "\n",
    "Recommandations sur les Variables\n",
    "\n",
    "À Conserver:\n",
    "sum_b : Très significative, indique une forte influence.\n",
    "pair et impair : Significatives, indiquent des influences négatives.\n",
    "À Écarter :\n",
    "\n",
    "Groupe_E1_E2, pair_E1, is_sumpaire, corr, MAX, MIN, produit : Ces variables ne sont pas statistiquement significatives et peuvent être écartées pour simplifier le modèle."
   ]
  },
  {
   "cell_type": "markdown",
   "metadata": {},
   "source": [
    "-Interprétation Générale :\n",
    "\n",
    "Le modèle semble bien ajusté avec un nombre d'itérations raisonnable et un pseudo R-carré de 0.1627, indiquant une bonne adéquation du modèle avec les données. La déviance et le Chi2 de Pearson sont également relativement bas, ce qui est positif pour le modèle."
   ]
  },
  {
   "cell_type": "markdown",
   "metadata": {},
   "source": [
    "Dans cette section on va garder que les varaibles qui ont une importance"
   ]
  },
  {
   "cell_type": "code",
   "execution_count": 36,
   "metadata": {},
   "outputs": [],
   "source": [
    "# Sélection de quelques variables exogènes pour le modèle\n",
    "Exogéne_varaibles = excel_data_mardi[['pair','impair','sum_b']]"
   ]
  },
  {
   "cell_type": "code",
   "execution_count": 37,
   "metadata": {},
   "outputs": [],
   "source": [
    "# Ajout d'une colonne constante aux variables exogènes pour le terme d'interception\n",
    "X = sm.add_constant(Exogéne_varaibles)"
   ]
  },
  {
   "cell_type": "code",
   "execution_count": 38,
   "metadata": {},
   "outputs": [],
   "source": [
    "# Création et ajustement du modèle de régression de Poisson avec statsmodels\n",
    "poisson_model = sm.GLM(endogenous_variable, X, family=sm.families.Poisson())\n",
    "poisson_results = poisson_model.fit()\n",
    "\n",
    "# Affichage du résumé du modèle\n",
    "poisson_results_summary = poisson_results.summary()"
   ]
  },
  {
   "cell_type": "code",
   "execution_count": 39,
   "metadata": {},
   "outputs": [
    {
     "data": {
      "text/html": [
       "<table class=\"simpletable\">\n",
       "<caption>Generalized Linear Model Regression Results</caption>\n",
       "<tr>\n",
       "  <th>Dep. Variable:</th>       <td>Endogéne</td>     <th>  No. Observations:  </th>  <td>   654</td> \n",
       "</tr>\n",
       "<tr>\n",
       "  <th>Model:</th>                  <td>GLM</td>       <th>  Df Residuals:      </th>  <td>   651</td> \n",
       "</tr>\n",
       "<tr>\n",
       "  <th>Model Family:</th>         <td>Poisson</td>     <th>  Df Model:          </th>  <td>     2</td> \n",
       "</tr>\n",
       "<tr>\n",
       "  <th>Link Function:</th>          <td>Log</td>       <th>  Scale:             </th> <td>  1.0000</td>\n",
       "</tr>\n",
       "<tr>\n",
       "  <th>Method:</th>                <td>IRLS</td>       <th>  Log-Likelihood:    </th> <td> -858.02</td>\n",
       "</tr>\n",
       "<tr>\n",
       "  <th>Date:</th>            <td>Sun, 07 Jan 2024</td> <th>  Deviance:          </th> <td>  32.132</td>\n",
       "</tr>\n",
       "<tr>\n",
       "  <th>Time:</th>                <td>16:21:46</td>     <th>  Pearson chi2:      </th>  <td>  31.1</td> \n",
       "</tr>\n",
       "<tr>\n",
       "  <th>No. Iterations:</th>          <td>4</td>        <th>  Pseudo R-squ. (CS):</th>  <td>0.1593</td> \n",
       "</tr>\n",
       "<tr>\n",
       "  <th>Covariance Type:</th>     <td>nonrobust</td>    <th>                     </th>     <td> </td>   \n",
       "</tr>\n",
       "</table>\n",
       "<table class=\"simpletable\">\n",
       "<tr>\n",
       "     <td></td>       <th>coef</th>     <th>std err</th>      <th>z</th>      <th>P>|z|</th>  <th>[0.025</th>    <th>0.975]</th>  \n",
       "</tr>\n",
       "<tr>\n",
       "  <th>const</th>  <td>   -0.0455</td> <td>    0.010</td> <td>   -4.647</td> <td> 0.000</td> <td>   -0.065</td> <td>   -0.026</td>\n",
       "</tr>\n",
       "<tr>\n",
       "  <th>pair</th>   <td>   -0.1133</td> <td>    0.028</td> <td>   -4.068</td> <td> 0.000</td> <td>   -0.168</td> <td>   -0.059</td>\n",
       "</tr>\n",
       "<tr>\n",
       "  <th>impair</th> <td>   -0.1141</td> <td>    0.027</td> <td>   -4.187</td> <td> 0.000</td> <td>   -0.168</td> <td>   -0.061</td>\n",
       "</tr>\n",
       "<tr>\n",
       "  <th>sum_b</th>  <td>    0.0100</td> <td>    0.001</td> <td>   10.546</td> <td> 0.000</td> <td>    0.008</td> <td>    0.012</td>\n",
       "</tr>\n",
       "</table>"
      ],
      "text/latex": [
       "\\begin{center}\n",
       "\\begin{tabular}{lclc}\n",
       "\\toprule\n",
       "\\textbf{Dep. Variable:}   &     Endogéne     & \\textbf{  No. Observations:  } &      654    \\\\\n",
       "\\textbf{Model:}           &       GLM        & \\textbf{  Df Residuals:      } &      651    \\\\\n",
       "\\textbf{Model Family:}    &     Poisson      & \\textbf{  Df Model:          } &        2    \\\\\n",
       "\\textbf{Link Function:}   &       Log        & \\textbf{  Scale:             } &    1.0000   \\\\\n",
       "\\textbf{Method:}          &       IRLS       & \\textbf{  Log-Likelihood:    } &   -858.02   \\\\\n",
       "\\textbf{Date:}            & Sun, 07 Jan 2024 & \\textbf{  Deviance:          } &    32.132   \\\\\n",
       "\\textbf{Time:}            &     16:21:46     & \\textbf{  Pearson chi2:      } &     31.1    \\\\\n",
       "\\textbf{No. Iterations:}  &        4         & \\textbf{  Pseudo R-squ. (CS):} &   0.1593    \\\\\n",
       "\\textbf{Covariance Type:} &    nonrobust     & \\textbf{                     } &             \\\\\n",
       "\\bottomrule\n",
       "\\end{tabular}\n",
       "\\begin{tabular}{lcccccc}\n",
       "                & \\textbf{coef} & \\textbf{std err} & \\textbf{z} & \\textbf{P$> |$z$|$} & \\textbf{[0.025} & \\textbf{0.975]}  \\\\\n",
       "\\midrule\n",
       "\\textbf{const}  &      -0.0455  &        0.010     &    -4.647  &         0.000        &       -0.065    &       -0.026     \\\\\n",
       "\\textbf{pair}   &      -0.1133  &        0.028     &    -4.068  &         0.000        &       -0.168    &       -0.059     \\\\\n",
       "\\textbf{impair} &      -0.1141  &        0.027     &    -4.187  &         0.000        &       -0.168    &       -0.061     \\\\\n",
       "\\textbf{sum\\_b} &       0.0100  &        0.001     &    10.546  &         0.000        &        0.008    &        0.012     \\\\\n",
       "\\bottomrule\n",
       "\\end{tabular}\n",
       "%\\caption{Generalized Linear Model Regression Results}\n",
       "\\end{center}"
      ],
      "text/plain": [
       "<class 'statsmodels.iolib.summary.Summary'>\n",
       "\"\"\"\n",
       "                 Generalized Linear Model Regression Results                  \n",
       "==============================================================================\n",
       "Dep. Variable:               Endogéne   No. Observations:                  654\n",
       "Model:                            GLM   Df Residuals:                      651\n",
       "Model Family:                 Poisson   Df Model:                            2\n",
       "Link Function:                    Log   Scale:                          1.0000\n",
       "Method:                          IRLS   Log-Likelihood:                -858.02\n",
       "Date:                Sun, 07 Jan 2024   Deviance:                       32.132\n",
       "Time:                        16:21:46   Pearson chi2:                     31.1\n",
       "No. Iterations:                     4   Pseudo R-squ. (CS):             0.1593\n",
       "Covariance Type:            nonrobust                                         \n",
       "==============================================================================\n",
       "                 coef    std err          z      P>|z|      [0.025      0.975]\n",
       "------------------------------------------------------------------------------\n",
       "const         -0.0455      0.010     -4.647      0.000      -0.065      -0.026\n",
       "pair          -0.1133      0.028     -4.068      0.000      -0.168      -0.059\n",
       "impair        -0.1141      0.027     -4.187      0.000      -0.168      -0.061\n",
       "sum_b          0.0100      0.001     10.546      0.000       0.008       0.012\n",
       "==============================================================================\n",
       "\"\"\""
      ]
     },
     "execution_count": 39,
     "metadata": {},
     "output_type": "execute_result"
    }
   ],
   "source": [
    "poisson_results_summary"
   ]
  },
  {
   "cell_type": "markdown",
   "metadata": {},
   "source": [
    "Le modèle de régression de Poisson appliqué sur 654 observations révèle des résultats significatifs. Avec un log-vraisemblance de -858.02 et un pseudo R-carré de 0.1593, le modèle montre une bonne adéquation. Les coefficients pour pair (-0.1133) et impair (-0.1141) sont tous deux significativement négatifs, suggérant une influence négative sur la variable dépendante y. En revanche, sum_b a un effet positif notable (coefficient de 0.0100), indiquant une augmentation de y avec une augmentation de sum_b. Le modèle, avec un nombre d'itérations de 4 et une déviance de 32.132, semble bien ajusté aux données. Ces résultats indiquent que les facteurs considérés ont un impact significatif sur la variable dépendante dans ce contexte statistique spécifique."
   ]
  },
  {
   "cell_type": "code",
   "execution_count": 40,
   "metadata": {},
   "outputs": [
    {
     "name": "stdout",
     "output_type": "stream",
     "text": [
      "         GLM Marginal Effects        \n",
      "=====================================\n",
      "Dep. Variable:               Endogéne\n",
      "Method:                          dydx\n",
      "At:                           overall\n",
      "==============================================================================\n",
      "                dy/dx    std err          z      P>|z|      [0.025      0.975]\n",
      "------------------------------------------------------------------------------\n",
      "pair          -0.2296      0.056     -4.127      0.000      -0.339      -0.121\n",
      "impair        -0.2312      0.054     -4.250      0.000      -0.338      -0.125\n",
      "sum_b          0.0203      0.002     10.129      0.000       0.016       0.024\n",
      "==============================================================================\n"
     ]
    }
   ],
   "source": [
    "# Calcul des effets marginaux\n",
    "marginal_effects = poisson_results.get_margeff()\n",
    "print(marginal_effects.summary())"
   ]
  },
  {
   "cell_type": "markdown",
   "metadata": {},
   "source": [
    "Dans le modèle GLM Poisson, les effets marginaux des variables pair, impair et sum_b sur la variable dépendante y sont significatifs et instructifs. Pour pair, l'effet marginal est de -0.2296, indiquant qu'une augmentation d'une unité dans pair entraîne une baisse de 0.2296 dans la valeur attendue de y. Cette influence négative est significative, avec une valeur de p proche de zéro. De manière similaire, impair a un effet marginal de -0.2312, montrant aussi un impact négatif substantiel sur y. En revanche, sum_b présente un effet positif avec un effet marginal de 0.0203, ce qui signifie que chaque augmentation d'une unité dans sum_b augmente la valeur attendue de y de 0.0203. Ces résultats sont statistiquement significatifs, soulignant l'influence notable de ces variables sur la variable dépendante dans notre modèle."
   ]
  },
  {
   "cell_type": "code",
   "execution_count": 41,
   "metadata": {},
   "outputs": [
    {
     "data": {
      "text/html": [
       "<div>\n",
       "<style scoped>\n",
       "    .dataframe tbody tr th:only-of-type {\n",
       "        vertical-align: middle;\n",
       "    }\n",
       "\n",
       "    .dataframe tbody tr th {\n",
       "        vertical-align: top;\n",
       "    }\n",
       "\n",
       "    .dataframe thead th {\n",
       "        text-align: right;\n",
       "    }\n",
       "</style>\n",
       "<table border=\"1\" class=\"dataframe\">\n",
       "  <thead>\n",
       "    <tr style=\"text-align: right;\">\n",
       "      <th></th>\n",
       "      <th>const</th>\n",
       "      <th>pair</th>\n",
       "      <th>impair</th>\n",
       "      <th>sum_b</th>\n",
       "    </tr>\n",
       "  </thead>\n",
       "  <tbody>\n",
       "    <tr>\n",
       "      <th>count</th>\n",
       "      <td>654.0</td>\n",
       "      <td>654.000000</td>\n",
       "      <td>654.000000</td>\n",
       "      <td>654.000000</td>\n",
       "    </tr>\n",
       "    <tr>\n",
       "      <th>mean</th>\n",
       "      <td>1.0</td>\n",
       "      <td>2.475535</td>\n",
       "      <td>2.524465</td>\n",
       "      <td>127.169725</td>\n",
       "    </tr>\n",
       "    <tr>\n",
       "      <th>std</th>\n",
       "      <td>0.0</td>\n",
       "      <td>1.088087</td>\n",
       "      <td>1.088087</td>\n",
       "      <td>29.636443</td>\n",
       "    </tr>\n",
       "    <tr>\n",
       "      <th>min</th>\n",
       "      <td>1.0</td>\n",
       "      <td>0.000000</td>\n",
       "      <td>0.000000</td>\n",
       "      <td>44.000000</td>\n",
       "    </tr>\n",
       "    <tr>\n",
       "      <th>25%</th>\n",
       "      <td>1.0</td>\n",
       "      <td>2.000000</td>\n",
       "      <td>2.000000</td>\n",
       "      <td>106.000000</td>\n",
       "    </tr>\n",
       "    <tr>\n",
       "      <th>50%</th>\n",
       "      <td>1.0</td>\n",
       "      <td>2.000000</td>\n",
       "      <td>3.000000</td>\n",
       "      <td>128.500000</td>\n",
       "    </tr>\n",
       "    <tr>\n",
       "      <th>75%</th>\n",
       "      <td>1.0</td>\n",
       "      <td>3.000000</td>\n",
       "      <td>3.000000</td>\n",
       "      <td>148.000000</td>\n",
       "    </tr>\n",
       "    <tr>\n",
       "      <th>max</th>\n",
       "      <td>1.0</td>\n",
       "      <td>5.000000</td>\n",
       "      <td>5.000000</td>\n",
       "      <td>222.000000</td>\n",
       "    </tr>\n",
       "  </tbody>\n",
       "</table>\n",
       "</div>"
      ],
      "text/plain": [
       "       const        pair      impair       sum_b\n",
       "count  654.0  654.000000  654.000000  654.000000\n",
       "mean     1.0    2.475535    2.524465  127.169725\n",
       "std      0.0    1.088087    1.088087   29.636443\n",
       "min      1.0    0.000000    0.000000   44.000000\n",
       "25%      1.0    2.000000    2.000000  106.000000\n",
       "50%      1.0    2.000000    3.000000  128.500000\n",
       "75%      1.0    3.000000    3.000000  148.000000\n",
       "max      1.0    5.000000    5.000000  222.000000"
      ]
     },
     "execution_count": 41,
     "metadata": {},
     "output_type": "execute_result"
    }
   ],
   "source": [
    "X.describe()"
   ]
  },
  {
   "cell_type": "code",
   "execution_count": 42,
   "metadata": {},
   "outputs": [
    {
     "data": {
      "text/html": [
       "<div>\n",
       "<style scoped>\n",
       "    .dataframe tbody tr th:only-of-type {\n",
       "        vertical-align: middle;\n",
       "    }\n",
       "\n",
       "    .dataframe tbody tr th {\n",
       "        vertical-align: top;\n",
       "    }\n",
       "\n",
       "    .dataframe thead th {\n",
       "        text-align: right;\n",
       "    }\n",
       "</style>\n",
       "<table border=\"1\" class=\"dataframe\">\n",
       "  <thead>\n",
       "    <tr style=\"text-align: right;\">\n",
       "      <th></th>\n",
       "      <th>const</th>\n",
       "      <th>pair</th>\n",
       "      <th>impair</th>\n",
       "      <th>sum_b</th>\n",
       "    </tr>\n",
       "  </thead>\n",
       "  <tbody>\n",
       "    <tr>\n",
       "      <th>0</th>\n",
       "      <td>1</td>\n",
       "      <td>0</td>\n",
       "      <td>4</td>\n",
       "      <td>127.169725</td>\n",
       "    </tr>\n",
       "    <tr>\n",
       "      <th>1</th>\n",
       "      <td>1</td>\n",
       "      <td>1</td>\n",
       "      <td>3</td>\n",
       "      <td>127.169725</td>\n",
       "    </tr>\n",
       "    <tr>\n",
       "      <th>2</th>\n",
       "      <td>1</td>\n",
       "      <td>2</td>\n",
       "      <td>2</td>\n",
       "      <td>127.169725</td>\n",
       "    </tr>\n",
       "    <tr>\n",
       "      <th>3</th>\n",
       "      <td>1</td>\n",
       "      <td>3</td>\n",
       "      <td>1</td>\n",
       "      <td>127.169725</td>\n",
       "    </tr>\n",
       "    <tr>\n",
       "      <th>4</th>\n",
       "      <td>1</td>\n",
       "      <td>4</td>\n",
       "      <td>0</td>\n",
       "      <td>127.169725</td>\n",
       "    </tr>\n",
       "  </tbody>\n",
       "</table>\n",
       "</div>"
      ],
      "text/plain": [
       "   const  pair  impair       sum_b\n",
       "0      1     0       4  127.169725\n",
       "1      1     1       3  127.169725\n",
       "2      1     2       2  127.169725\n",
       "3      1     3       1  127.169725\n",
       "4      1     4       0  127.169725"
      ]
     },
     "execution_count": 42,
     "metadata": {},
     "output_type": "execute_result"
    }
   ],
   "source": [
    "import pandas as pd\n",
    "\n",
    "# Création de la nouvelle observation avec les valeurs fournies\n",
    "new_observation = {\n",
    "    'const': [ 1, 1, 1, 1, 1],\n",
    "    'pair': [0, 1, 2, 3, 4],\n",
    "    'impair': [4, 3, 2, 1, 0],\n",
    "    'sum_b': [127.169725, 127.169725, 127.169725, 127.169725, 127.169725]\n",
    "}\n",
    "\n",
    "# Conversion en DataFrame\n",
    "df_new = pd.DataFrame.from_dict(new_observation)\n",
    "df_new"
   ]
  },
  {
   "cell_type": "code",
   "execution_count": 43,
   "metadata": {},
   "outputs": [
    {
     "data": {
      "text/html": [
       "<div>\n",
       "<style scoped>\n",
       "    .dataframe tbody tr th:only-of-type {\n",
       "        vertical-align: middle;\n",
       "    }\n",
       "\n",
       "    .dataframe tbody tr th {\n",
       "        vertical-align: top;\n",
       "    }\n",
       "\n",
       "    .dataframe thead th {\n",
       "        text-align: right;\n",
       "    }\n",
       "</style>\n",
       "<table border=\"1\" class=\"dataframe\">\n",
       "  <thead>\n",
       "    <tr style=\"text-align: right;\">\n",
       "      <th></th>\n",
       "      <th>const</th>\n",
       "      <th>pair</th>\n",
       "      <th>impair</th>\n",
       "      <th>sum_b</th>\n",
       "      <th>estimation_lambda</th>\n",
       "    </tr>\n",
       "  </thead>\n",
       "  <tbody>\n",
       "    <tr>\n",
       "      <th>0</th>\n",
       "      <td>1</td>\n",
       "      <td>0</td>\n",
       "      <td>4</td>\n",
       "      <td>127.169725</td>\n",
       "      <td>2.169930</td>\n",
       "    </tr>\n",
       "    <tr>\n",
       "      <th>1</th>\n",
       "      <td>1</td>\n",
       "      <td>1</td>\n",
       "      <td>3</td>\n",
       "      <td>127.169725</td>\n",
       "      <td>2.171608</td>\n",
       "    </tr>\n",
       "    <tr>\n",
       "      <th>2</th>\n",
       "      <td>1</td>\n",
       "      <td>2</td>\n",
       "      <td>2</td>\n",
       "      <td>127.169725</td>\n",
       "      <td>2.173287</td>\n",
       "    </tr>\n",
       "    <tr>\n",
       "      <th>3</th>\n",
       "      <td>1</td>\n",
       "      <td>3</td>\n",
       "      <td>1</td>\n",
       "      <td>127.169725</td>\n",
       "      <td>2.174968</td>\n",
       "    </tr>\n",
       "    <tr>\n",
       "      <th>4</th>\n",
       "      <td>1</td>\n",
       "      <td>4</td>\n",
       "      <td>0</td>\n",
       "      <td>127.169725</td>\n",
       "      <td>2.176650</td>\n",
       "    </tr>\n",
       "  </tbody>\n",
       "</table>\n",
       "</div>"
      ],
      "text/plain": [
       "   const  pair  impair       sum_b  estimation_lambda\n",
       "0      1     0       4  127.169725           2.169930\n",
       "1      1     1       3  127.169725           2.171608\n",
       "2      1     2       2  127.169725           2.173287\n",
       "3      1     3       1  127.169725           2.174968\n",
       "4      1     4       0  127.169725           2.176650"
      ]
     },
     "execution_count": 43,
     "metadata": {},
     "output_type": "execute_result"
    }
   ],
   "source": [
    "# Si df_new n'a pas la colonne 'const', ajoutez-la\n",
    "if 'const' not in df_new.columns:\n",
    "    df_new = sm.add_constant(df_new)\n",
    "\n",
    "# Faire la prédiction en utilisant le modèle\n",
    "predicted_nombre_point= poisson_results.predict(df_new)\n",
    "prediction_lambda = list(predicted_nombre_point)\n",
    "\n",
    "# Création de la nouvelle observation avec les valeurs fournies\n",
    "new_observation = {\n",
    "    'const': [1, 1, 1, 1, 1],\n",
    "    'pair': [0, 1, 2, 3, 4],\n",
    "    'impair': [4, 3, 2, 1, 0],\n",
    "    'sum_b': [127.169725, 127.169725, 127.169725, 127.169725, 127.169725],\n",
    "    'estimation_lambda': prediction_lambda\n",
    "}\n",
    "\n",
    "# Conversion en DataFrame\n",
    "df_new = pd.DataFrame.from_dict(new_observation)\n",
    "df_new"
   ]
  },
  {
   "cell_type": "markdown",
   "metadata": {},
   "source": []
  },
  {
   "cell_type": "code",
   "execution_count": null,
   "metadata": {},
   "outputs": [],
   "source": []
  },
  {
   "cell_type": "code",
   "execution_count": null,
   "metadata": {},
   "outputs": [],
   "source": []
  },
  {
   "cell_type": "code",
   "execution_count": null,
   "metadata": {},
   "outputs": [],
   "source": []
  }
 ],
 "metadata": {
  "kernelspec": {
   "display_name": "Python 3",
   "language": "python",
   "name": "python3"
  },
  "language_info": {
   "codemirror_mode": {
    "name": "ipython",
    "version": 3
   },
   "file_extension": ".py",
   "mimetype": "text/x-python",
   "name": "python",
   "nbconvert_exporter": "python",
   "pygments_lexer": "ipython3",
   "version": "3.11.4"
  }
 },
 "nbformat": 4,
 "nbformat_minor": 2
}
