{
 "cells": [
  {
   "cell_type": "code",
   "execution_count": null,
   "metadata": {},
   "outputs": [],
   "source": []
  },
  {
   "cell_type": "code",
   "execution_count": null,
   "metadata": {},
   "outputs": [],
   "source": []
  },
  {
   "cell_type": "code",
   "execution_count": 1,
   "metadata": {},
   "outputs": [],
   "source": [
    "carre = lambda t:t*t"
   ]
  },
  {
   "cell_type": "code",
   "execution_count": 8,
   "metadata": {},
   "outputs": [],
   "source": [
    "n =20\n",
    "x = map(carre,range(n))\n"
   ]
  },
  {
   "cell_type": "code",
   "execution_count": 11,
   "metadata": {},
   "outputs": [
    {
     "data": {
      "text/plain": [
       "[4, 9, 16, 25, 36, 49]"
      ]
     },
     "execution_count": 11,
     "metadata": {},
     "output_type": "execute_result"
    }
   ],
   "source": [
    "f1 = lambda t: 2<t<50\n",
    "\n",
    "x = map(carre,range(n))\n",
    "y = filter(f1,x)\n",
    "list(y)"
   ]
  },
  {
   "cell_type": "code",
   "execution_count": 3,
   "metadata": {},
   "outputs": [
    {
     "name": "stdout",
     "output_type": "stream",
     "text": [
      "[8]\n"
     ]
    }
   ],
   "source": [
    "from functools import reduce\n",
    "\n"
   ]
  },
  {
   "cell_type": "code",
   "execution_count": 20,
   "metadata": {},
   "outputs": [
    {
     "name": "stdout",
     "output_type": "stream",
     "text": [
      "Moyenne : 1.500 - Variance : 0.250\n"
     ]
    }
   ],
   "source": [
    "#Exercice 1\n",
    "# Méthode 1\n",
    "def calcul_moy_var(X):\n",
    "    n =len(X)\n",
    "    moyenne=reduce(lambda x, y: x+y, X)/n\n",
    "    carre =map(lambda x:x*x, X)\n",
    "\n",
    "    varaince= reduce(lambda x, y: x+y, carre)/n -(moyenne**2)\n",
    "    return (moyenne, varaince)\n",
    "res = calcul_moy_var([1,2])\n",
    "print(f\"Moyenne : {res[0]:.3f} - Variance : {res[1]:.3f}\")\n",
    "\n"
   ]
  },
  {
   "cell_type": "code",
   "execution_count": 18,
   "metadata": {},
   "outputs": [
    {
     "name": "stdout",
     "output_type": "stream",
     "text": [
      "Moyenne : 1.500 - Variance : 0.250\n",
      "Moyenne : 1.500 - Variance : 0.250\n"
     ]
    }
   ],
   "source": [
    "#Méthode 2\n",
    "def calcul_moy_var(X):\n",
    "    mapper1=map(lambda t:(t,1), X)\n",
    "    reduce1 =reduce(lambda t1,t2:(t1[0]+t2[0],t1[1]+t2[1]), mapper1)\n",
    "    moyenne =reduce(lambda u, v:u/v, reduce1)\n",
    "\n",
    "    mapper2 = map(lambda x :(x**2, 1), X)\n",
    "    reduce2 =reduce(lambda t1,t2:(t1[0]+t2[0],t1[1]+t2[1]), mapper2)\n",
    "\n",
    "    var =reduce(lambda u, v:u/v, reduce2) -moyenne**2\n",
    "\n",
    "    return (moyenne, var)\n",
    "\n",
    "res = calcul_moy_var([1,2])\n",
    "print(f\"Moyenne : {res[0]:.3f} - Variance : {res[1]:.3f}\")\n",
    "\n",
    "#méthode 3\n",
    "def calcul_moy_var(X):\n",
    "    mapper1=map(lambda t:(t**2, t, 1), X)\n",
    "    reduce1 =reduce(lambda t1,t2:(t1[0]+t2[0],t1[1]+t2[1],t1[2]+t2[2]), mapper1)\n",
    "\n",
    "\n",
    "    moyenne = reduce1[1]/reduce1[2]\n",
    "\n",
    "   \n",
    "    var = reduce1[0]/reduce1[2]-moyenne**2\n",
    "\n",
    "    \n",
    "\n",
    "    return (moyenne, var)\n",
    "\n",
    "\n",
    "res = calcul_moy_var([1,2])\n",
    "print(f\"Moyenne : {res[0]:.3f} - Variance : {res[1]:.3f}\")\n",
    "\n"
   ]
  },
  {
   "cell_type": "code",
   "execution_count": 27,
   "metadata": {},
   "outputs": [
    {
     "name": "stdout",
     "output_type": "stream",
     "text": [
      "1\n",
      "Y\n",
      "1\n",
      "o\n",
      "1\n",
      "u\n",
      "1\n",
      "n\n",
      "1\n",
      "e\n",
      "1\n",
      "s\n",
      "1\n",
      "s\n",
      "1\n",
      " \n",
      "1\n",
      "c\n",
      "1\n",
      "h\n",
      "1\n",
      "a\n",
      "1\n",
      "a\n",
      "1\n",
      "n\n",
      "1\n",
      "a\n",
      "1\n",
      "n\n",
      "1\n",
      "i\n",
      "1\n",
      " \n",
      "1\n",
      "i\n",
      "1\n",
      "s\n",
      "1\n",
      " \n",
      "1\n",
      "s\n",
      "1\n",
      "t\n",
      "1\n",
      "u\n",
      "1\n",
      "d\n",
      "1\n",
      "e\n",
      "1\n",
      "n\n",
      "1\n",
      "t\n",
      "1\n",
      " \n",
      "1\n",
      "q\n",
      "1\n",
      "u\n",
      "1\n",
      "i\n",
      "1\n",
      " \n",
      "1\n",
      "t\n",
      "1\n",
      "r\n",
      "1\n",
      "a\n",
      "1\n",
      "v\n",
      "1\n",
      "a\n",
      "1\n",
      "i\n",
      "1\n",
      "l\n",
      "1\n",
      "l\n",
      "1\n",
      "e\n",
      "1\n",
      " \n",
      "1\n",
      "b\n",
      "1\n",
      "e\n",
      "1\n",
      "a\n",
      "1\n",
      "u\n",
      "1\n",
      "c\n",
      "1\n",
      "o\n",
      "1\n",
      "u\n",
      "1\n",
      "p\n",
      "1\n",
      " \n",
      "1\n",
      "e\n",
      "1\n",
      "t\n",
      "1\n",
      " \n",
      "1\n",
      "i\n",
      "1\n",
      "n\n",
      "1\n",
      "t\n",
      "1\n",
      "e\n",
      "1\n",
      "l\n",
      "1\n",
      "i\n",
      "1\n",
      "g\n",
      "1\n",
      "e\n",
      "1\n",
      "n\n",
      "1\n",
      "t\n",
      "1\n",
      " \n",
      "1\n",
      "a\n",
      "1\n",
      "u\n",
      "1\n",
      " \n",
      "1\n",
      "m\n",
      "1\n",
      "e\n",
      "1\n",
      "m\n",
      "1\n",
      "e\n",
      "1\n",
      " \n",
      "1\n",
      "t\n",
      "1\n",
      "e\n",
      "1\n",
      "m\n",
      "1\n",
      "p\n",
      "1\n",
      "s\n",
      "1\n",
      "\n",
      "\n",
      "1\n",
      "i\n",
      "1\n",
      "l\n",
      "1\n",
      " \n",
      "1\n",
      "a\n",
      "1\n",
      " \n",
      "1\n",
      "u\n",
      "1\n",
      "n\n",
      "1\n",
      " \n",
      "1\n",
      "g\n",
      "1\n",
      "r\n",
      "1\n",
      "a\n",
      "1\n",
      "n\n",
      "1\n",
      "d\n",
      "1\n",
      " \n",
      "1\n",
      "a\n",
      "1\n",
      "v\n",
      "1\n",
      "e\n",
      "1\n",
      "n\n",
      "1\n",
      "i\n",
      "1\n",
      "r\n",
      "1\n",
      " \n",
      "1\n",
      "i\n",
      "1\n",
      "n\n",
      "1\n",
      "c\n",
      "1\n",
      "h\n",
      "1\n",
      "a\n",
      "1\n",
      "a\n",
      "1\n",
      "l\n",
      "1\n",
      "a\n",
      "1\n",
      "l\n",
      "1\n",
      "h\n"
     ]
    }
   ],
   "source": [
    "filin = open(\"texte.txt\", \"r\")\n",
    "\n",
    "for line in filin:\n",
    "     for word in line:\n",
    "        print(1)\n",
    "        print(word)"
   ]
  },
  {
   "cell_type": "code",
   "execution_count": 22,
   "metadata": {},
   "outputs": [
    {
     "data": {
      "text/plain": [
       "<_io.TextIOWrapper name='texte.txt' mode='r' encoding='cp1252'>"
      ]
     },
     "execution_count": 22,
     "metadata": {},
     "output_type": "execute_result"
    }
   ],
   "source": [
    "filin"
   ]
  },
  {
   "cell_type": "code",
   "execution_count": 28,
   "metadata": {},
   "outputs": [
    {
     "name": "stdout",
     "output_type": "stream",
     "text": [
      "Collecting mrjob\n",
      "  Downloading mrjob-0.7.4-py2.py3-none-any.whl (439 kB)\n",
      "                                              0.0/439.6 kB ? eta -:--:--\n",
      "     ---------                              112.6/439.6 kB 3.3 MB/s eta 0:00:01\n",
      "     -----------------                      204.8/439.6 kB 3.1 MB/s eta 0:00:01\n",
      "     -----------------                      204.8/439.6 kB 3.1 MB/s eta 0:00:01\n",
      "     -----------------                      204.8/439.6 kB 3.1 MB/s eta 0:00:01\n",
      "     -----------------                      204.8/439.6 kB 3.1 MB/s eta 0:00:01\n",
      "     -----------------                      204.8/439.6 kB 3.1 MB/s eta 0:00:01\n",
      "     -----------------                      204.8/439.6 kB 3.1 MB/s eta 0:00:01\n",
      "     -----------------                      204.8/439.6 kB 3.1 MB/s eta 0:00:01\n",
      "     -----------------                      204.8/439.6 kB 3.1 MB/s eta 0:00:01\n",
      "     -----------------                      204.8/439.6 kB 3.1 MB/s eta 0:00:01\n",
      "     -----------------                      204.8/439.6 kB 3.1 MB/s eta 0:00:01\n",
      "     -----------------                      204.8/439.6 kB 3.1 MB/s eta 0:00:01\n",
      "     -----------------                      204.8/439.6 kB 3.1 MB/s eta 0:00:01\n",
      "     -----------------                      204.8/439.6 kB 3.1 MB/s eta 0:00:01\n",
      "     -----------------                      204.8/439.6 kB 3.1 MB/s eta 0:00:01\n",
      "     -----------------                      204.8/439.6 kB 3.1 MB/s eta 0:00:01\n",
      "     -----------------                      204.8/439.6 kB 3.1 MB/s eta 0:00:01\n",
      "     --------------------                 245.8/439.6 kB 327.6 kB/s eta 0:00:01\n",
      "     -----------------------              286.7/439.6 kB 368.6 kB/s eta 0:00:01\n",
      "     ------------------------------       368.6/439.6 kB 449.7 kB/s eta 0:00:01\n",
      "     ------------------------------       368.6/439.6 kB 449.7 kB/s eta 0:00:01\n",
      "     ------------------------------       368.6/439.6 kB 449.7 kB/s eta 0:00:01\n",
      "     ------------------------------       368.6/439.6 kB 449.7 kB/s eta 0:00:01\n",
      "     ------------------------------       368.6/439.6 kB 449.7 kB/s eta 0:00:01\n",
      "     ------------------------------       368.6/439.6 kB 449.7 kB/s eta 0:00:01\n",
      "     ---------------------------------    409.6/439.6 kB 381.4 kB/s eta 0:00:01\n",
      "     -----------------------------------  430.1/439.6 kB 383.8 kB/s eta 0:00:01\n",
      "     ------------------------------------ 439.6/439.6 kB 386.8 kB/s eta 0:00:00\n",
      "Collecting PyYAML>=3.10 (from mrjob)\n",
      "  Downloading PyYAML-6.0.1-cp311-cp311-win_amd64.whl (144 kB)\n",
      "                                              0.0/144.7 kB ? eta -:--:--\n",
      "     ------------------------                92.2/144.7 kB 2.6 MB/s eta 0:00:01\n",
      "     -------------------------------------- 144.7/144.7 kB 2.9 MB/s eta 0:00:00\n",
      "Installing collected packages: PyYAML, mrjob\n",
      "Successfully installed PyYAML-6.0.1 mrjob-0.7.4\n",
      "Note: you may need to restart the kernel to use updated packages.\n"
     ]
    },
    {
     "name": "stderr",
     "output_type": "stream",
     "text": [
      "\n",
      "[notice] A new release of pip is available: 23.1.2 -> 23.2.1\n",
      "[notice] To update, run: python.exe -m pip install --upgrade pip\n"
     ]
    }
   ],
   "source": [
    "pip install mrjob\n"
   ]
  },
  {
   "cell_type": "code",
   "execution_count": null,
   "metadata": {},
   "outputs": [],
   "source": []
  }
 ],
 "metadata": {
  "kernelspec": {
   "display_name": "Python 3",
   "language": "python",
   "name": "python3"
  },
  "language_info": {
   "codemirror_mode": {
    "name": "ipython",
    "version": 3
   },
   "file_extension": ".py",
   "mimetype": "text/x-python",
   "name": "python",
   "nbconvert_exporter": "python",
   "pygments_lexer": "ipython3",
   "version": "3.11.4"
  }
 },
 "nbformat": 4,
 "nbformat_minor": 2
}
